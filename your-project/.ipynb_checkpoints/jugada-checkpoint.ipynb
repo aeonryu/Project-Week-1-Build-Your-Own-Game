{
 "cells": [
  {
   "cell_type": "code",
   "execution_count": null,
   "metadata": {},
   "outputs": [],
   "source": [
    "import random"
   ]
  },
  {
   "cell_type": "code",
   "execution_count": null,
   "metadata": {},
   "outputs": [],
   "source": [
    "nombre = input('Bienvenido a Turista Mundial Digital. Escribe tu nombre: ')\n",
    "print(nombre)"
   ]
  },
  {
   "cell_type": "code",
   "execution_count": null,
   "metadata": {},
   "outputs": [],
   "source": [
    "dado = random.randint(1,6)\n",
    "print(dado)"
   ]
  },
  {
   "cell_type": "code",
   "execution_count": null,
   "metadata": {},
   "outputs": [],
   "source": [
    "tablero = {}\n",
    "jugadores = {}\n",
    "\n",
    "tablero = [{'inicio':20000},\n",
    "           {'canada':{'valor_de_la_propiedad':12000, 'renta':3600, 'costo_casa':2400, 'costo_hotel':6000, 'dueño':0, 'casas':0, 'hoteles':0, 'quien_esta':[0,0]}},\n",
    "          {'peru':{'valor_de_la_propiedad':15000, 'renta':4500, 'costo_casa':3000, 'costo_hotel':7500, 'dueño':0, 'casas':0, 'hoteles':0, 'quien_esta':[0,0]}},\n",
    "            {'brasil':{'valor_de_la_propiedad':23000, 'renta':6900, 'costo_casa':4600, 'costo_hotel':11500, 'dueño':0, 'casas':0, 'hoteles':0, 'quien_esta':[0,0]}},\n",
    "          {'carcel':-30000}, \n",
    "           {'portugal':{'valor_de_la_propiedad':30000, 'renta':9000, 'costo_casa':6000, 'costo_hotel':15000, 'dueño':0, 'casas':0, 'hoteles':0, 'quien_esta':[0,0]}},\n",
    "          {'italia':{'valor_de_la_propiedad':40000, 'renta':12000, 'costo_casa':8000, 'costo_hotel':20000, 'dueño':0, 'casas':0, 'hoteles':0, 'quien_esta':[0,0]}},\n",
    "          {'finlandia':{'valor_de_la_propiedad':26000, 'renta':7800, 'costo_casa':5200, 'costo_hotel':13000, 'dueño':0, 'casas':0, 'hoteles':0, 'quien_esta':[0,0]}},\n",
    "           {'sigue_adelante':0},\n",
    "          {'rusia':{'valor_de_la_propiedad':18000, 'renta':5400, 'costo_casa':3600, 'costo_hotel':9000, 'dueño':0, 'casas':0, 'hoteles':0, 'quien_esta':[0,0]}},\n",
    "          {'china':{'valor_de_la_propiedad':25000, 'renta':7500, 'costo_casa':5000, 'costo_hotel':12500, 'dueño':0, 'casas':0, 'hoteles':0, 'quien_esta':[0,0]}},\n",
    "          {'japon':{'valor_de_la_propiedad':41000, 'renta':12300, 'costo_casa':8200, 'costo_hotel':20500, 'dueño':0, 'casas':0, 'hoteles':0, 'quien_esta':[0,0]}},\n",
    "          {'ir_carcel':0},\n",
    "          {'argelia':{'valor_de_la_propiedad':32000, 'renta':9600, 'costo_casa':6400, 'costo_hotel':16000, 'dueño':0, 'casas':0, 'hoteles':0, 'quien_esta':[0,0]}},\n",
    "          {'congo':{'valor_de_la_propiedad':35000, 'renta':10500, 'costo_casa':7000, 'costo_hotel':17500, 'dueño':0, 'casas':0, 'hoteles':0, 'quien_esta':[0,0]}},\n",
    "          {'sudafrica':{'valor_de_la_propiedad':37000, 'renta':11100, 'costo_casa':7400, 'costo_hotel':18500, 'dueño':0, 'casas':0, 'hoteles':0, 'quien_esta':[0,0]}}]\n",
    "\n",
    "[[k,v]] = tablero[1].items()\n",
    "\n",
    "jugadores = [{'jugador1':{'dinero':150000, 'casilla':k}},{'jugador2':{'dinero':150000, 'casilla':k}}]\n",
    "\n",
    "print(tablero)\n",
    "print(jugadores)"
   ]
  },
  {
   "cell_type": "code",
   "execution_count": null,
   "metadata": {},
   "outputs": [],
   "source": [
    "def mover_posicion(tablero):\n",
    "    jugadores['casilla'] + dado\n",
    "    return"
   ]
  },
  {
   "cell_type": "code",
   "execution_count": null,
   "metadata": {},
   "outputs": [],
   "source": [
    "def jugada():\n",
    "    posicion = tablero[]\n",
    "    jugador = jugadores['jugador1']\n",
    "    propiedad = (jugador, posicion)"
   ]
  },
  {
   "cell_type": "code",
   "execution_count": null,
   "metadata": {},
   "outputs": [],
   "source": [
    "def propiedad (jugador, posicion):\n",
    "\n",
    "# posicion['dueño'] = 0 > sin dueño o sin dueño\n",
    "# posicion['dueño'] = 1 > con dueño, dueño = jugador o jugador 1\n",
    "# posicion['dueño'] = 2 > con dueño, dueño != jugador o jugador 2\n",
    "    \n",
    "    if posicion['dueño'] == 0:\n",
    "        respuesta_comprar = int(input('¿Quieres comprar la propiedad? Presiona 1 para Sí, 2 para -No-.') \n",
    "        if respuesta_comprar == 1:\n",
    "            jugador['dinero'] - posicion['valor de la propiedad']\n",
    "        else:\n",
    "            continue\n",
    "    elif posicion['dueño'] == 1:\n",
    "        respuesta_construir = int(input('¿Quieres construir casa u hotel? Presiona 1 para casa, 2 para hotel, 0 para no construir.')\n",
    "        if respuesta_construir == 1:\n",
    "            if posicion['casas'] == 4:\n",
    "                input('Tienes 4 casas aquí, ya no puedes construir más.')\n",
    "            else:\n",
    "                jugador['dinero'] - posicion['costo_casa']\n",
    "        elif respuesta_construir == 2:\n",
    "            if posicion['hoteles'] == 4:\n",
    "                input('Tienes 4 casas aquí, ya no puedes construir más.')\n",
    "            else:\n",
    "                jugador['dinero'] - posicion['costo_hotel']\n",
    "        else:\n",
    "            continue\n",
    "    else posicion['dueño'] == 2:\n",
    "        jugador['dinero'] - posicion['costo_renta']\n",
    "    \n",
    "    return\n",
    "\n",
    "print(propiedad)"
   ]
  },
  {
   "cell_type": "code",
   "execution_count": null,
   "metadata": {},
   "outputs": [],
   "source": [
    "def puntos():"
   ]
  },
  {
   "cell_type": "code",
   "execution_count": null,
   "metadata": {},
   "outputs": [],
   "source": [
    "def juego():\n",
    "    while jugadores['dinero'] > 0:\n",
    "        jugada()\n",
    "        propiedad()\n",
    "        puntos()"
   ]
  }
 ],
 "metadata": {
  "kernelspec": {
   "display_name": "Python 3",
   "language": "python",
   "name": "python3"
  },
  "language_info": {
   "codemirror_mode": {
    "name": "ipython",
    "version": 3
   },
   "file_extension": ".py",
   "mimetype": "text/x-python",
   "name": "python",
   "nbconvert_exporter": "python",
   "pygments_lexer": "ipython3",
   "version": "3.7.4"
  }
 },
 "nbformat": 4,
 "nbformat_minor": 2
}
